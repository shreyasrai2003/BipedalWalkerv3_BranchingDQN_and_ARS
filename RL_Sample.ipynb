{
 "cells": [
  {
   "metadata": {
    "ExecuteTime": {
     "end_time": "2024-04-18T05:03:10.241982Z",
     "start_time": "2024-04-18T05:03:10.239948Z"
    }
   },
   "cell_type": "code",
   "source": "import gym",
   "id": "cc11d9bae16fb47d",
   "outputs": [],
   "execution_count": 6
  },
  {
   "metadata": {
    "ExecuteTime": {
     "end_time": "2024-04-18T05:09:58.469928Z",
     "start_time": "2024-04-18T05:09:58.465372Z"
    }
   },
   "cell_type": "code",
   "source": "env = gym.make('FrozenLake-v1', render_mode = 'human')",
   "id": "b2cc47c998e406f5",
   "outputs": [],
   "execution_count": 7
  },
  {
   "metadata": {
    "ExecuteTime": {
     "end_time": "2024-04-18T05:12:51.986219Z",
     "start_time": "2024-04-18T05:12:40.043711Z"
    }
   },
   "cell_type": "code",
   "source": "env.reset()",
   "id": "4df1ec495e938fb3",
   "outputs": [
    {
     "data": {
      "text/plain": [
       "(0, {'prob': 1})"
      ]
     },
     "execution_count": 11,
     "metadata": {},
     "output_type": "execute_result"
    }
   ],
   "execution_count": 11
  },
  {
   "metadata": {
    "ExecuteTime": {
     "end_time": "2024-04-18T05:15:48.566621Z",
     "start_time": "2024-04-18T05:15:48.439990Z"
    }
   },
   "cell_type": "code",
   "source": "env.render()",
   "id": "7a5e8ca7c435d748",
   "outputs": [],
   "execution_count": 12
  },
  {
   "metadata": {
    "ExecuteTime": {
     "end_time": "2024-04-18T05:16:18.583685Z",
     "start_time": "2024-04-18T05:16:18.579284Z"
    }
   },
   "cell_type": "code",
   "source": "env.observation_space",
   "id": "c331e74e195d152",
   "outputs": [
    {
     "data": {
      "text/plain": [
       "Discrete(16)"
      ]
     },
     "execution_count": 15,
     "metadata": {},
     "output_type": "execute_result"
    }
   ],
   "execution_count": 15
  },
  {
   "metadata": {},
   "cell_type": "code",
   "outputs": [],
   "execution_count": null,
   "source": "",
   "id": "cbdcea23895a7e6f"
  }
 ],
 "metadata": {
  "kernelspec": {
   "display_name": "Python 3",
   "language": "python",
   "name": "python3"
  },
  "language_info": {
   "codemirror_mode": {
    "name": "ipython",
    "version": 2
   },
   "file_extension": ".py",
   "mimetype": "text/x-python",
   "name": "python",
   "nbconvert_exporter": "python",
   "pygments_lexer": "ipython2",
   "version": "2.7.6"
  }
 },
 "nbformat": 4,
 "nbformat_minor": 5
}
