{
 "nbformat": 4,
 "nbformat_minor": 0,
 "metadata": {
  "colab": {
   "provenance": [],
   "gpuType": "T4"
  },
  "kernelspec": {
   "name": "python3",
   "display_name": "Python 3"
  },
  "language_info": {
   "name": "python"
  }
 },
 "cells": [
  {
   "cell_type": "markdown",
   "source": [
    "Utils.py containing ReplayBuffer"
   ],
   "metadata": {
    "id": "CbNgSMxdkCA2"
   }
  },
  {
   "cell_type": "code",
   "metadata": {
    "id": "ouE33ETBjzFq",
    "jupyter": {
     "is_executing": true
    }
   },
   "source": [
    "import torch\n",
    "\n",
    "import collections\n",
    "import random\n",
    "\n",
    "class ReplayBuffer():\n",
    "    def __init__(self,buffer_limit,action_space,device):\n",
    "        self.buffer = collections.deque(maxlen=buffer_limit)\n",
    "        self.action_space = action_space\n",
    "        self.device = device\n",
    "    def put(self, transition):\n",
    "        self.buffer.append(transition)\n",
    "\n",
    "    def sample(self, n):\n",
    "        mini_batch = random.sample(self.buffer, n)\n",
    "        state_lst, reward_lst, next_state_lst, done_mask_lst = [], [], [], []\n",
    "        actions_lst = [[] for i in range(self.action_space)]\n",
    "\n",
    "        for transition in mini_batch:\n",
    "            state, actions,reward, next_state, done_mask = transition\n",
    "            state_lst.append(state)\n",
    "            for idx in range(self.action_space):\n",
    "                actions_lst[idx].append(actions[idx])\n",
    "            reward_lst.append([reward])\n",
    "            next_state_lst.append(next_state)\n",
    "            done_mask_lst.append([done_mask])\n",
    "        actions_lst = [torch.tensor(x,dtype= torch.float).to(self.device) for x in actions_lst]\n",
    "        return torch.tensor(state_lst, dtype=torch.float).to(self.device),\\\n",
    "               actions_lst ,torch.tensor(reward_lst).to(self.device),\\\n",
    "                torch.tensor(next_state_lst, dtype=torch.float).to(self.device),\\\n",
    "               torch.tensor(done_mask_lst).to(self.device)\n",
    "    def size(self):\n",
    "        return len(self.buffer)"
   ],
   "outputs": [],
   "execution_count": null
  },
  {
   "cell_type": "markdown",
   "source": [
    "network.py containing QNetwork\n"
   ],
   "metadata": {
    "id": "S0F0vdNAkNQK"
   }
  },
  {
   "cell_type": "code",
   "source": [
    "import torch.nn as nn\n",
    "import torch.nn.functional as F\n",
    "\n",
    "class QNetwork(nn.Module):\n",
    "    def __init__(self,state_space : int, action_num : int,action_scale : int):\n",
    "        super(QNetwork,self).__init__()\n",
    "        self.linear_1 = nn.Linear(state_space,state_space*20)\n",
    "        self.linear_2 = nn.Linear(state_space*20,state_space*10)\n",
    "\n",
    "        self.actions = [nn.Sequential(nn.Linear(state_space*10,state_space*5),\n",
    "              nn.ReLU(),\n",
    "              nn.Linear(state_space*5,action_scale)\n",
    "              ) for _ in range(action_num)]\n",
    "\n",
    "        self.actions = nn.ModuleList(self.actions)\n",
    "\n",
    "        self.value = nn.Sequential(nn.Linear(state_space*10,state_space*5),\n",
    "              nn.ReLU(),\n",
    "              nn.Linear(state_space*5,1)\n",
    "              )\n",
    "\n",
    "    def forward(self,x):\n",
    "        x = F.relu(self.linear_1(x))\n",
    "        encoded = F.relu(self.linear_2(x))\n",
    "        actions = [x(encoded) for x in self.actions]\n",
    "        value = self.value(encoded)\n",
    "        for i in range(len(actions)):\n",
    "            actions[i] = actions[i] - actions[i].max(-1)[0].reshape(-1,1)\n",
    "            actions[i] += value\n",
    "        return actions"
   ],
   "metadata": {
    "id": "BPJA0LPLkM6S"
   },
   "execution_count": null,
   "outputs": []
  },
  {
   "cell_type": "markdown",
   "source": [
    "agent.py containing Qnetwork"
   ],
   "metadata": {
    "id": "-zU3jNu1lBwL"
   }
  },
  {
   "cell_type": "code",
   "source": [
    "import torch\n",
    "import torch.nn as nn\n",
    "import torch.nn.functional as F\n",
    "import torch.optim as optim\n",
    "\n",
    "\n",
    "class BQN(nn.Module):\n",
    "    def __init__(self,state_space : int, action_num : int,action_scale : int, learning_rate, device : str):\n",
    "        super(BQN,self).__init__()\n",
    "\n",
    "        self.q = QNetwork(state_space, action_num,action_scale).to(device)\n",
    "        self.target_q = QNetwork(state_space, action_num,action_scale).to(device)\n",
    "        self.target_q.load_state_dict(self.q.state_dict())\n",
    "\n",
    "        self.optimizer = optim.Adam([\\\n",
    "                                    {'params' : self.q.linear_1.parameters(),'lr': learning_rate / (action_num+2)},\\\n",
    "                                    {'params' : self.q.linear_2.parameters(),'lr': learning_rate / (action_num+2)},\\\n",
    "                                    {'params' : self.q.value.parameters(), 'lr' : learning_rate/ (action_num+2)},\\\n",
    "                                    {'params' : self.q.actions.parameters(), 'lr' : learning_rate},\\\n",
    "                                    ])\n",
    "        self.update_freq = 1000\n",
    "        self.update_count = 0\n",
    "    def action(self,x):\n",
    "        return self.q(x)\n",
    "\n",
    "    def train_mode(self,n_epi,memory,batch_size,gamma,use_tensorboard,writer):\n",
    "        state, actions, reward, next_state, done_mask = memory.sample(batch_size)\n",
    "\n",
    "        state = state.float()\n",
    "        reward = reward.float()\n",
    "        next_state = next_state.float()\n",
    "        done_mask = done_mask.float()\n",
    "\n",
    "        actions = torch.stack(actions).transpose(0,1).unsqueeze(-1)\n",
    "        done_mask = torch.abs(done_mask-1)\n",
    "\n",
    "\n",
    "\n",
    "        cur_actions = self.q(state)\n",
    "        cur_actions = torch.stack(cur_actions).transpose(0,1)\n",
    "        cur_actions = cur_actions.gather(2,actions.long()).squeeze(-1)\n",
    "\n",
    "        target_cur_actions = self.target_q(next_state)\n",
    "        target_cur_actions = torch.stack(target_cur_actions).transpose(0,1)\n",
    "        target_cur_actions = target_cur_actions.max(-1,keepdim = True)[0]\n",
    "        target_action = (done_mask * gamma * target_cur_actions.mean(1) + reward)\n",
    "\n",
    "        loss = F.mse_loss(cur_actions,target_action.repeat(1,4))\n",
    "\n",
    "        self.optimizer.zero_grad()\n",
    "        loss.backward()\n",
    "        self.optimizer.step()\n",
    "\n",
    "        self.update_count += 1\n",
    "        if (self.update_count % self.update_freq == 0) and (self.update_count > 0):\n",
    "            self.update_count = 0\n",
    "            self.target_q.load_state_dict(self.q.state_dict())\n",
    "\n",
    "        if use_tensorboard:\n",
    "            writer.add_scalar(\"Loss/loss\", loss, n_epi)\n",
    "        return loss"
   ],
   "metadata": {
    "id": "sgpiosCFlAz4"
   },
   "execution_count": null,
   "outputs": []
  },
  {
   "cell_type": "markdown",
   "source": [
    "Main.py"
   ],
   "metadata": {
    "id": "KRk5skqPlde1"
   }
  },
  {
   "cell_type": "code",
   "source": [
    "!pip install swig\n",
    "!pip install gym[box2d]"
   ],
   "metadata": {
    "colab": {
     "base_uri": "https://localhost:8080/"
    },
    "id": "15m03SqmmrrJ",
    "outputId": "3164ba37-fc1a-4331-ecd3-c8dc82e44fde"
   },
   "execution_count": null,
   "outputs": [
    {
     "output_type": "stream",
     "name": "stdout",
     "text": [
      "^C\n",
      "Requirement already satisfied: gym[box2d] in /usr/local/lib/python3.10/dist-packages (0.25.2)\n",
      "Requirement already satisfied: numpy>=1.18.0 in /usr/local/lib/python3.10/dist-packages (from gym[box2d]) (1.25.2)\n",
      "Requirement already satisfied: cloudpickle>=1.2.0 in /usr/local/lib/python3.10/dist-packages (from gym[box2d]) (2.2.1)\n",
      "Requirement already satisfied: gym-notices>=0.0.4 in /usr/local/lib/python3.10/dist-packages (from gym[box2d]) (0.0.8)\n",
      "Collecting box2d-py==2.3.5 (from gym[box2d])\n",
      "  Downloading box2d-py-2.3.5.tar.gz (374 kB)\n",
      "\u001B[2K     \u001B[90m━━━━━━━━━━━━━━━━━━━━━━━━━━━━━━━━━━━━━━━━\u001B[0m \u001B[32m374.4/374.4 kB\u001B[0m \u001B[31m8.4 MB/s\u001B[0m eta \u001B[36m0:00:00\u001B[0m\n",
      "\u001B[?25h  Preparing metadata (setup.py) ... \u001B[?25l\u001B[?25hdone\n",
      "Collecting pygame==2.1.0 (from gym[box2d])\n",
      "  Downloading pygame-2.1.0-cp310-cp310-manylinux_2_17_x86_64.manylinux2014_x86_64.whl (18.3 MB)\n",
      "\u001B[2K     \u001B[90m━━━━━━━━━━━━━━━━━━━━━━━━━━━━━━━━━━━━━━━━\u001B[0m \u001B[32m18.3/18.3 MB\u001B[0m \u001B[31m20.1 MB/s\u001B[0m eta \u001B[36m0:00:00\u001B[0m\n",
      "\u001B[?25hCollecting swig==4.* (from gym[box2d])\n",
      "  Downloading swig-4.2.1-py2.py3-none-manylinux_2_5_x86_64.manylinux1_x86_64.whl (1.9 MB)\n",
      "\u001B[2K     \u001B[90m━━━━━━━━━━━━━━━━━━━━━━━━━━━━━━━━━━━━━━━━\u001B[0m \u001B[32m1.9/1.9 MB\u001B[0m \u001B[31m65.9 MB/s\u001B[0m eta \u001B[36m0:00:00\u001B[0m\n",
      "\u001B[?25hBuilding wheels for collected packages: box2d-py\n",
      "  \u001B[1;31merror\u001B[0m: \u001B[1msubprocess-exited-with-error\u001B[0m\n",
      "  \n",
      "  \u001B[31m×\u001B[0m \u001B[32mpython setup.py bdist_wheel\u001B[0m did not run successfully.\n",
      "  \u001B[31m│\u001B[0m exit code: \u001B[1;36m1\u001B[0m\n",
      "  \u001B[31m╰─>\u001B[0m See above for output.\n",
      "  \n",
      "  \u001B[1;35mnote\u001B[0m: This error originates from a subprocess, and is likely not a problem with pip.\n",
      "  Building wheel for box2d-py (setup.py) ... \u001B[?25lerror\n",
      "\u001B[31m  ERROR: Failed building wheel for box2d-py\u001B[0m\u001B[31m\n",
      "\u001B[0m\u001B[?25h  Running setup.py clean for box2d-py\n",
      "Failed to build box2d-py\n",
      "\u001B[31mERROR: Could not build wheels for box2d-py, which is required to install pyproject.toml-based projects\u001B[0m\u001B[31m\n",
      "\u001B[0m"
     ]
    }
   ]
  },
  {
   "cell_type": "code",
   "source": [
    "import torch\n",
    "import torch.nn as nn\n",
    "import torch.nn.functional as F\n",
    "import torch.optim as optim\n",
    "\n",
    "import numpy as np\n",
    "import os\n",
    "import time\n",
    "import random\n",
    "import argparse\n",
    "\n",
    "import gym\n",
    "\n",
    "# Define arguments directly in the code\n",
    "class Args:\n",
    "    train = True\n",
    "    render = False\n",
    "    epochs = 1000\n",
    "    tensorboard = False\n",
    "    lr_rate = 0.0001\n",
    "    batch_size = 64\n",
    "    gamma = 0.99\n",
    "    action_scale = 6\n",
    "    load = 'no'\n",
    "    save_interval = 100\n",
    "    print_interval = 1\n",
    "\n",
    "args = Args()\n",
    "\n",
    "use_tensorboard = args.tensorboard\n",
    "action_scale = args.action_scale\n",
    "learning_rate = args.lr_rate\n",
    "batch_size = args.batch_size\n",
    "gamma = args.gamma\n",
    "\n",
    "if use_tensorboard :\n",
    "    from torch.utils.tensorboard import SummaryWriter\n",
    "    writer = SummaryWriter()\n",
    "else:\n",
    "    writer = None\n",
    "os.makedirs('./model_weights', exist_ok=True)\n",
    "\n",
    "\n",
    "env = gym.make(\"BipedalWalker-v3\")\n",
    "state_space = env.observation_space.shape[0]\n",
    "action_space = env.action_space.shape[0]\n",
    "print('observation space : ', env.observation_space)\n",
    "print('action space : ', env.action_space)\n",
    "print(env.action_space.low, env.action_space.high)\n",
    "\n",
    "device = 'cuda' if torch.cuda.is_available() else 'cpu'\n",
    "if device == 'cuda':\n",
    "    agent = BQN(state_space,action_space,(action_scale), learning_rate, device).cuda()\n",
    "else :\n",
    "    agent = BQN(state_space,action_space,(action_scale), learning_rate, device)\n",
    "if args.load != 'no':\n",
    "    agent.load_state_dict(torch.load('./model_weights/'+args.load))\n",
    "memory = ReplayBuffer(100000,action_space,device)\n",
    "real_action = np.linspace(-1.,1., action_scale)\n",
    "\n",
    "for n_epi in range(2000):\n",
    "    state = env.reset()\n",
    "    done = False\n",
    "    score = 0.0\n",
    "    while not done:\n",
    "        if args.render :\n",
    "            env.render()\n",
    "        epsilon = max(0.01, 0.9 - 0.01*(n_epi/10))\n",
    "        if epsilon > random.random():\n",
    "            action = random.sample(range(0,(action_scale)),4)\n",
    "        else:\n",
    "            action_prob = agent.action(torch.tensor(state).float().reshape(1,-1).to(device))\n",
    "            action = [int(x.max(1)[1]) for x in action_prob]\n",
    "        next_state, reward, done, info = env.step(np.array([real_action[x] for x in action]))\n",
    "\n",
    "        score += reward\n",
    "        done = 0 if done == False else 1\n",
    "        memory.put((state,action,reward,next_state, done))\n",
    "        if (memory.size()>5000) and (args.train):\n",
    "            agent.train_mode(n_epi, memory, batch_size, gamma, use_tensorboard,writer)\n",
    "        state = next_state\n",
    "    if use_tensorboard:\n",
    "        writer.add_scalar(\"reward\", score, n_epi)\n",
    "    if (n_epi % args.save_interval == 0) and (n_epi > 0):\n",
    "        torch.save(agent.state_dict(),'./model_weights/agent_'+str(n_epi))\n",
    "    if (n_epi % args.print_interval == 0):\n",
    "        print(\"epi : \",n_epi,\", score : \",score)\n"
   ],
   "metadata": {
    "colab": {
     "base_uri": "https://localhost:8080/",
     "height": 408
    },
    "id": "HU8uiqo6mjn-",
    "outputId": "c78e0d9b-46fb-4548-d5df-b387a78fb7f1"
   },
   "execution_count": null,
   "outputs": [
    {
     "output_type": "error",
     "ename": "DependencyNotInstalled",
     "evalue": "box2D is not installed, run `pip install gym[box2d]`",
     "traceback": [
      "\u001B[0;31m---------------------------------------------------------------------------\u001B[0m",
      "\u001B[0;31mModuleNotFoundError\u001B[0m                       Traceback (most recent call last)",
      "\u001B[0;32m/usr/local/lib/python3.10/dist-packages/gym/envs/box2d/bipedal_walker.py\u001B[0m in \u001B[0;36m<module>\u001B[0;34m\u001B[0m\n\u001B[1;32m     14\u001B[0m \u001B[0;32mtry\u001B[0m\u001B[0;34m:\u001B[0m\u001B[0;34m\u001B[0m\u001B[0;34m\u001B[0m\u001B[0m\n\u001B[0;32m---> 15\u001B[0;31m     \u001B[0;32mimport\u001B[0m \u001B[0mBox2D\u001B[0m\u001B[0;34m\u001B[0m\u001B[0;34m\u001B[0m\u001B[0m\n\u001B[0m\u001B[1;32m     16\u001B[0m     from Box2D.b2 import (\n",
      "\u001B[0;31mModuleNotFoundError\u001B[0m: No module named 'Box2D'",
      "\nDuring handling of the above exception, another exception occurred:\n",
      "\u001B[0;31mDependencyNotInstalled\u001B[0m                    Traceback (most recent call last)",
      "\u001B[0;32m<ipython-input-5-63f032d5b85e>\u001B[0m in \u001B[0;36m<cell line: 44>\u001B[0;34m()\u001B[0m\n\u001B[1;32m     42\u001B[0m \u001B[0;34m\u001B[0m\u001B[0m\n\u001B[1;32m     43\u001B[0m \u001B[0;34m\u001B[0m\u001B[0m\n\u001B[0;32m---> 44\u001B[0;31m \u001B[0menv\u001B[0m \u001B[0;34m=\u001B[0m \u001B[0mgym\u001B[0m\u001B[0;34m.\u001B[0m\u001B[0mmake\u001B[0m\u001B[0;34m(\u001B[0m\u001B[0;34m\"BipedalWalker-v3\"\u001B[0m\u001B[0;34m)\u001B[0m\u001B[0;34m\u001B[0m\u001B[0;34m\u001B[0m\u001B[0m\n\u001B[0m\u001B[1;32m     45\u001B[0m \u001B[0mstate_space\u001B[0m \u001B[0;34m=\u001B[0m \u001B[0menv\u001B[0m\u001B[0;34m.\u001B[0m\u001B[0mobservation_space\u001B[0m\u001B[0;34m.\u001B[0m\u001B[0mshape\u001B[0m\u001B[0;34m[\u001B[0m\u001B[0;36m0\u001B[0m\u001B[0;34m]\u001B[0m\u001B[0;34m\u001B[0m\u001B[0;34m\u001B[0m\u001B[0m\n\u001B[1;32m     46\u001B[0m \u001B[0maction_space\u001B[0m \u001B[0;34m=\u001B[0m \u001B[0menv\u001B[0m\u001B[0;34m.\u001B[0m\u001B[0maction_space\u001B[0m\u001B[0;34m.\u001B[0m\u001B[0mshape\u001B[0m\u001B[0;34m[\u001B[0m\u001B[0;36m0\u001B[0m\u001B[0;34m]\u001B[0m\u001B[0;34m\u001B[0m\u001B[0;34m\u001B[0m\u001B[0m\n",
      "\u001B[0;32m/usr/local/lib/python3.10/dist-packages/gym/envs/registration.py\u001B[0m in \u001B[0;36mmake\u001B[0;34m(id, max_episode_steps, autoreset, new_step_api, disable_env_checker, **kwargs)\u001B[0m\n\u001B[1;32m    617\u001B[0m     \u001B[0;32melse\u001B[0m\u001B[0;34m:\u001B[0m\u001B[0;34m\u001B[0m\u001B[0;34m\u001B[0m\u001B[0m\n\u001B[1;32m    618\u001B[0m         \u001B[0;31m# Assume it's a string\u001B[0m\u001B[0;34m\u001B[0m\u001B[0;34m\u001B[0m\u001B[0m\n\u001B[0;32m--> 619\u001B[0;31m         \u001B[0menv_creator\u001B[0m \u001B[0;34m=\u001B[0m \u001B[0mload\u001B[0m\u001B[0;34m(\u001B[0m\u001B[0mspec_\u001B[0m\u001B[0;34m.\u001B[0m\u001B[0mentry_point\u001B[0m\u001B[0;34m)\u001B[0m\u001B[0;34m\u001B[0m\u001B[0;34m\u001B[0m\u001B[0m\n\u001B[0m\u001B[1;32m    620\u001B[0m \u001B[0;34m\u001B[0m\u001B[0m\n\u001B[1;32m    621\u001B[0m     \u001B[0mmode\u001B[0m \u001B[0;34m=\u001B[0m \u001B[0m_kwargs\u001B[0m\u001B[0;34m.\u001B[0m\u001B[0mget\u001B[0m\u001B[0;34m(\u001B[0m\u001B[0;34m\"render_mode\"\u001B[0m\u001B[0;34m)\u001B[0m\u001B[0;34m\u001B[0m\u001B[0;34m\u001B[0m\u001B[0m\n",
      "\u001B[0;32m/usr/local/lib/python3.10/dist-packages/gym/envs/registration.py\u001B[0m in \u001B[0;36mload\u001B[0;34m(name)\u001B[0m\n\u001B[1;32m     60\u001B[0m     \"\"\"\n\u001B[1;32m     61\u001B[0m     \u001B[0mmod_name\u001B[0m\u001B[0;34m,\u001B[0m \u001B[0mattr_name\u001B[0m \u001B[0;34m=\u001B[0m \u001B[0mname\u001B[0m\u001B[0;34m.\u001B[0m\u001B[0msplit\u001B[0m\u001B[0;34m(\u001B[0m\u001B[0;34m\":\"\u001B[0m\u001B[0;34m)\u001B[0m\u001B[0;34m\u001B[0m\u001B[0;34m\u001B[0m\u001B[0m\n\u001B[0;32m---> 62\u001B[0;31m     \u001B[0mmod\u001B[0m \u001B[0;34m=\u001B[0m \u001B[0mimportlib\u001B[0m\u001B[0;34m.\u001B[0m\u001B[0mimport_module\u001B[0m\u001B[0;34m(\u001B[0m\u001B[0mmod_name\u001B[0m\u001B[0;34m)\u001B[0m\u001B[0;34m\u001B[0m\u001B[0;34m\u001B[0m\u001B[0m\n\u001B[0m\u001B[1;32m     63\u001B[0m     \u001B[0mfn\u001B[0m \u001B[0;34m=\u001B[0m \u001B[0mgetattr\u001B[0m\u001B[0;34m(\u001B[0m\u001B[0mmod\u001B[0m\u001B[0;34m,\u001B[0m \u001B[0mattr_name\u001B[0m\u001B[0;34m)\u001B[0m\u001B[0;34m\u001B[0m\u001B[0;34m\u001B[0m\u001B[0m\n\u001B[1;32m     64\u001B[0m     \u001B[0;32mreturn\u001B[0m \u001B[0mfn\u001B[0m\u001B[0;34m\u001B[0m\u001B[0;34m\u001B[0m\u001B[0m\n",
      "\u001B[0;32m/usr/lib/python3.10/importlib/__init__.py\u001B[0m in \u001B[0;36mimport_module\u001B[0;34m(name, package)\u001B[0m\n\u001B[1;32m    124\u001B[0m                 \u001B[0;32mbreak\u001B[0m\u001B[0;34m\u001B[0m\u001B[0;34m\u001B[0m\u001B[0m\n\u001B[1;32m    125\u001B[0m             \u001B[0mlevel\u001B[0m \u001B[0;34m+=\u001B[0m \u001B[0;36m1\u001B[0m\u001B[0;34m\u001B[0m\u001B[0;34m\u001B[0m\u001B[0m\n\u001B[0;32m--> 126\u001B[0;31m     \u001B[0;32mreturn\u001B[0m \u001B[0m_bootstrap\u001B[0m\u001B[0;34m.\u001B[0m\u001B[0m_gcd_import\u001B[0m\u001B[0;34m(\u001B[0m\u001B[0mname\u001B[0m\u001B[0;34m[\u001B[0m\u001B[0mlevel\u001B[0m\u001B[0;34m:\u001B[0m\u001B[0;34m]\u001B[0m\u001B[0;34m,\u001B[0m \u001B[0mpackage\u001B[0m\u001B[0;34m,\u001B[0m \u001B[0mlevel\u001B[0m\u001B[0;34m)\u001B[0m\u001B[0;34m\u001B[0m\u001B[0;34m\u001B[0m\u001B[0m\n\u001B[0m\u001B[1;32m    127\u001B[0m \u001B[0;34m\u001B[0m\u001B[0m\n\u001B[1;32m    128\u001B[0m \u001B[0;34m\u001B[0m\u001B[0m\n",
      "\u001B[0;32m/usr/lib/python3.10/importlib/_bootstrap.py\u001B[0m in \u001B[0;36m_gcd_import\u001B[0;34m(name, package, level)\u001B[0m\n",
      "\u001B[0;32m/usr/lib/python3.10/importlib/_bootstrap.py\u001B[0m in \u001B[0;36m_find_and_load\u001B[0;34m(name, import_)\u001B[0m\n",
      "\u001B[0;32m/usr/lib/python3.10/importlib/_bootstrap.py\u001B[0m in \u001B[0;36m_find_and_load_unlocked\u001B[0;34m(name, import_)\u001B[0m\n",
      "\u001B[0;32m/usr/lib/python3.10/importlib/_bootstrap.py\u001B[0m in \u001B[0;36m_call_with_frames_removed\u001B[0;34m(f, *args, **kwds)\u001B[0m\n",
      "\u001B[0;32m/usr/lib/python3.10/importlib/_bootstrap.py\u001B[0m in \u001B[0;36m_gcd_import\u001B[0;34m(name, package, level)\u001B[0m\n",
      "\u001B[0;32m/usr/lib/python3.10/importlib/_bootstrap.py\u001B[0m in \u001B[0;36m_find_and_load\u001B[0;34m(name, import_)\u001B[0m\n",
      "\u001B[0;32m/usr/lib/python3.10/importlib/_bootstrap.py\u001B[0m in \u001B[0;36m_find_and_load_unlocked\u001B[0;34m(name, import_)\u001B[0m\n",
      "\u001B[0;32m/usr/lib/python3.10/importlib/_bootstrap.py\u001B[0m in \u001B[0;36m_load_unlocked\u001B[0;34m(spec)\u001B[0m\n",
      "\u001B[0;32m/usr/lib/python3.10/importlib/_bootstrap_external.py\u001B[0m in \u001B[0;36mexec_module\u001B[0;34m(self, module)\u001B[0m\n",
      "\u001B[0;32m/usr/lib/python3.10/importlib/_bootstrap.py\u001B[0m in \u001B[0;36m_call_with_frames_removed\u001B[0;34m(f, *args, **kwds)\u001B[0m\n",
      "\u001B[0;32m/usr/local/lib/python3.10/dist-packages/gym/envs/box2d/__init__.py\u001B[0m in \u001B[0;36m<module>\u001B[0;34m\u001B[0m\n\u001B[0;32m----> 1\u001B[0;31m \u001B[0;32mfrom\u001B[0m \u001B[0mgym\u001B[0m\u001B[0;34m.\u001B[0m\u001B[0menvs\u001B[0m\u001B[0;34m.\u001B[0m\u001B[0mbox2d\u001B[0m\u001B[0;34m.\u001B[0m\u001B[0mbipedal_walker\u001B[0m \u001B[0;32mimport\u001B[0m \u001B[0mBipedalWalker\u001B[0m\u001B[0;34m,\u001B[0m \u001B[0mBipedalWalkerHardcore\u001B[0m\u001B[0;34m\u001B[0m\u001B[0;34m\u001B[0m\u001B[0m\n\u001B[0m\u001B[1;32m      2\u001B[0m \u001B[0;32mfrom\u001B[0m \u001B[0mgym\u001B[0m\u001B[0;34m.\u001B[0m\u001B[0menvs\u001B[0m\u001B[0;34m.\u001B[0m\u001B[0mbox2d\u001B[0m\u001B[0;34m.\u001B[0m\u001B[0mcar_racing\u001B[0m \u001B[0;32mimport\u001B[0m \u001B[0mCarRacing\u001B[0m\u001B[0;34m\u001B[0m\u001B[0;34m\u001B[0m\u001B[0m\n\u001B[1;32m      3\u001B[0m \u001B[0;32mfrom\u001B[0m \u001B[0mgym\u001B[0m\u001B[0;34m.\u001B[0m\u001B[0menvs\u001B[0m\u001B[0;34m.\u001B[0m\u001B[0mbox2d\u001B[0m\u001B[0;34m.\u001B[0m\u001B[0mlunar_lander\u001B[0m \u001B[0;32mimport\u001B[0m \u001B[0mLunarLander\u001B[0m\u001B[0;34m,\u001B[0m \u001B[0mLunarLanderContinuous\u001B[0m\u001B[0;34m\u001B[0m\u001B[0;34m\u001B[0m\u001B[0m\n",
      "\u001B[0;32m/usr/local/lib/python3.10/dist-packages/gym/envs/box2d/bipedal_walker.py\u001B[0m in \u001B[0;36m<module>\u001B[0;34m\u001B[0m\n\u001B[1;32m     23\u001B[0m     )\n\u001B[1;32m     24\u001B[0m \u001B[0;32mexcept\u001B[0m \u001B[0mImportError\u001B[0m\u001B[0;34m:\u001B[0m\u001B[0;34m\u001B[0m\u001B[0;34m\u001B[0m\u001B[0m\n\u001B[0;32m---> 25\u001B[0;31m     \u001B[0;32mraise\u001B[0m \u001B[0mDependencyNotInstalled\u001B[0m\u001B[0;34m(\u001B[0m\u001B[0;34m\"box2D is not installed, run `pip install gym[box2d]`\"\u001B[0m\u001B[0;34m)\u001B[0m\u001B[0;34m\u001B[0m\u001B[0;34m\u001B[0m\u001B[0m\n\u001B[0m\u001B[1;32m     26\u001B[0m \u001B[0;34m\u001B[0m\u001B[0m\n\u001B[1;32m     27\u001B[0m \u001B[0;34m\u001B[0m\u001B[0m\n",
      "\u001B[0;31mDependencyNotInstalled\u001B[0m: box2D is not installed, run `pip install gym[box2d]`"
     ]
    }
   ]
  }
 ]
}
