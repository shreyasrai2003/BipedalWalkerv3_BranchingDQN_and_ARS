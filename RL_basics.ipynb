{
 "cells": [
  {
   "metadata": {
    "ExecuteTime": {
     "end_time": "2024-04-18T14:40:26.538895Z",
     "start_time": "2024-04-18T14:40:26.265953Z"
    }
   },
   "cell_type": "code",
   "source": "import gym",
   "id": "cc11d9bae16fb47d",
   "outputs": [],
   "execution_count": 2
  },
  {
   "metadata": {
    "ExecuteTime": {
     "end_time": "2024-04-18T14:40:26.551962Z",
     "start_time": "2024-04-18T14:40:26.544811Z"
    }
   },
   "cell_type": "code",
   "source": "env = gym.make('FrozenLake-v1', render_mode = 'human')",
   "id": "b2cc47c998e406f5",
   "outputs": [],
   "execution_count": 3
  },
  {
   "metadata": {
    "ExecuteTime": {
     "end_time": "2024-04-18T14:46:34.572013Z",
     "start_time": "2024-04-18T14:46:34.567326Z"
    }
   },
   "cell_type": "code",
   "source": "env.reset()",
   "id": "4df1ec495e938fb3",
   "outputs": [
    {
     "data": {
      "text/plain": [
       "(0, {'prob': 1})"
      ]
     },
     "execution_count": 119,
     "metadata": {},
     "output_type": "execute_result"
    }
   ],
   "execution_count": 119
  },
  {
   "metadata": {
    "ExecuteTime": {
     "end_time": "2024-04-18T14:46:34.977774Z",
     "start_time": "2024-04-18T14:46:34.975388Z"
    }
   },
   "cell_type": "code",
   "source": "env.render()",
   "id": "7a5e8ca7c435d748",
   "outputs": [],
   "execution_count": 120
  },
  {
   "metadata": {
    "ExecuteTime": {
     "end_time": "2024-04-18T14:46:35.356219Z",
     "start_time": "2024-04-18T14:46:35.354178Z"
    }
   },
   "cell_type": "code",
   "source": "env.observation_space",
   "id": "c331e74e195d152",
   "outputs": [
    {
     "data": {
      "text/plain": [
       "Discrete(16)"
      ]
     },
     "execution_count": 121,
     "metadata": {},
     "output_type": "execute_result"
    }
   ],
   "execution_count": 121
  },
  {
   "metadata": {
    "ExecuteTime": {
     "end_time": "2024-04-18T14:46:35.858313Z",
     "start_time": "2024-04-18T14:46:35.855772Z"
    }
   },
   "cell_type": "code",
   "source": "env.action_space",
   "id": "cbdcea23895a7e6f",
   "outputs": [
    {
     "data": {
      "text/plain": [
       "Discrete(4)"
      ]
     },
     "execution_count": 122,
     "metadata": {},
     "output_type": "execute_result"
    }
   ],
   "execution_count": 122
  },
  {
   "metadata": {
    "ExecuteTime": {
     "end_time": "2024-04-18T14:46:37.946566Z",
     "start_time": "2024-04-18T14:46:37.944014Z"
    }
   },
   "cell_type": "code",
   "source": "randomAction = env.action_space.sample()",
   "id": "23a81272b0f39a98",
   "outputs": [],
   "execution_count": 123
  },
  {
   "metadata": {
    "ExecuteTime": {
     "end_time": "2024-04-18T14:46:29.011351Z",
     "start_time": "2024-04-18T14:46:29.008846Z"
    }
   },
   "cell_type": "code",
   "source": [
    "returnValue = env.step(randomAction)\n",
    "#(observation, reward, terminated, truncated, info)"
   ],
   "id": "4ed55fdd9843eebc",
   "outputs": [],
   "execution_count": 118
  },
  {
   "metadata": {
    "ExecuteTime": {
     "end_time": "2024-04-18T14:56:43.993187Z",
     "start_time": "2024-04-18T14:56:43.989397Z"
    }
   },
   "cell_type": "code",
   "source": "print(returnValue)",
   "id": "bc49299b1a04fabc",
   "outputs": [
    {
     "name": "stdout",
     "output_type": "stream",
     "text": [
      "(7, 0, True, False, {'prob': 1.0})\n"
     ]
    }
   ],
   "execution_count": 139
  },
  {
   "metadata": {
    "ExecuteTime": {
     "end_time": "2024-04-18T14:48:34.769262Z",
     "start_time": "2024-04-18T14:48:34.766532Z"
    }
   },
   "cell_type": "code",
   "source": "env.P[0][1]",
   "id": "2207dba896bf9e33",
   "outputs": [
    {
     "data": {
      "text/plain": [
       "[(0.3333333333333333, 0, 0.0, False),\n",
       " (0.3333333333333333, 4, 0.0, False),\n",
       " (0.3333333333333333, 1, 0.0, False)]"
      ]
     },
     "execution_count": 128,
     "metadata": {},
     "output_type": "execute_result"
    }
   ],
   "execution_count": 128
  },
  {
   "metadata": {
    "ExecuteTime": {
     "end_time": "2024-04-18T14:55:28.847051Z",
     "start_time": "2024-04-18T14:55:28.845153Z"
    }
   },
   "cell_type": "code",
   "source": "n_iteration = 20",
   "id": "8b5d96fa653598c8",
   "outputs": [],
   "execution_count": 134
  },
  {
   "metadata": {
    "ExecuteTime": {
     "end_time": "2024-04-18T14:55:29.105944Z",
     "start_time": "2024-04-18T14:55:29.102922Z"
    }
   },
   "cell_type": "code",
   "source": "import time",
   "id": "4e2aec313110492b",
   "outputs": [],
   "execution_count": 135
  },
  {
   "metadata": {
    "ExecuteTime": {
     "end_time": "2024-04-18T14:58:20.962397Z",
     "start_time": "2024-04-18T14:58:15.676506Z"
    }
   },
   "cell_type": "code",
   "source": [
    "for i in range(n_iteration):\n",
    "    randomAction = env.action_space.sample()\n",
    "    returnValue = env.step(randomAction)\n",
    "    env.render()\n",
    "    print(\"Iteration\", i, \"ReturnValue\", returnValue)\n",
    "    time.sleep(0.01)\n",
    "    if returnValue == 2 or returnValue[2] == True:\n",
    "        break"
   ],
   "id": "34131d472b773115",
   "outputs": [
    {
     "name": "stdout",
     "output_type": "stream",
     "text": [
      "Iteration 0 ReturnValue (1, 0.0, False, False, {'prob': 0.3333333333333333})\n",
      "Iteration 1 ReturnValue (2, 0.0, False, False, {'prob': 0.3333333333333333})\n",
      "Iteration 2 ReturnValue (1, 0.0, False, False, {'prob': 0.3333333333333333})\n",
      "Iteration 3 ReturnValue (0, 0.0, False, False, {'prob': 0.3333333333333333})\n",
      "Iteration 4 ReturnValue (0, 0.0, False, False, {'prob': 0.3333333333333333})\n",
      "Iteration 5 ReturnValue (1, 0.0, False, False, {'prob': 0.3333333333333333})\n",
      "Iteration 6 ReturnValue (0, 0.0, False, False, {'prob': 0.3333333333333333})\n",
      "Iteration 7 ReturnValue (4, 0.0, False, False, {'prob': 0.3333333333333333})\n",
      "Iteration 8 ReturnValue (0, 0.0, False, False, {'prob': 0.3333333333333333})\n",
      "Iteration 9 ReturnValue (4, 0.0, False, False, {'prob': 0.3333333333333333})\n",
      "Iteration 10 ReturnValue (5, 0.0, True, False, {'prob': 0.3333333333333333})\n"
     ]
    }
   ],
   "execution_count": 148
  },
  {
   "metadata": {
    "ExecuteTime": {
     "end_time": "2024-04-18T14:58:14.632034Z",
     "start_time": "2024-04-18T14:58:14.626958Z"
    }
   },
   "cell_type": "code",
   "source": "env.reset()",
   "id": "3bbc70eed8ebecf6",
   "outputs": [
    {
     "data": {
      "text/plain": [
       "(0, {'prob': 1})"
      ]
     },
     "execution_count": 147,
     "metadata": {},
     "output_type": "execute_result"
    }
   ],
   "execution_count": 147
  },
  {
   "metadata": {},
   "cell_type": "code",
   "outputs": [],
   "execution_count": null,
   "source": "env.close()",
   "id": "4f8f68a3257cbce3"
  }
 ],
 "metadata": {
  "kernelspec": {
   "display_name": "Python 3",
   "language": "python",
   "name": "python3"
  },
  "language_info": {
   "codemirror_mode": {
    "name": "ipython",
    "version": 2
   },
   "file_extension": ".py",
   "mimetype": "text/x-python",
   "name": "python",
   "nbconvert_exporter": "python",
   "pygments_lexer": "ipython2",
   "version": "2.7.6"
  }
 },
 "nbformat": 4,
 "nbformat_minor": 5
}
