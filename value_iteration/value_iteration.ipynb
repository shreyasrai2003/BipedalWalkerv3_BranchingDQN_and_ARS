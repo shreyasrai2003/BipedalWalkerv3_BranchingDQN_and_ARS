{
 "cells": [
  {
   "cell_type": "code",
   "id": "initial_id",
   "metadata": {
    "collapsed": true,
    "ExecuteTime": {
     "end_time": "2024-04-25T04:03:55.515468Z",
     "start_time": "2024-04-25T04:03:55.512738Z"
    }
   },
   "source": [
    "import gym\n",
    "import matplotlib.pyplot as plt\n",
    "import seaborn as sns\n",
    "import numpy as np"
   ],
   "outputs": [],
   "execution_count": 38
  },
  {
   "metadata": {
    "ExecuteTime": {
     "end_time": "2024-04-25T04:03:55.531595Z",
     "start_time": "2024-04-25T04:03:55.529336Z"
    }
   },
   "cell_type": "code",
   "source": "env = gym.make('FrozenLake-v1', render_mode = 'human')",
   "id": "6d1ed0245d8de4d9",
   "outputs": [],
   "execution_count": 39
  },
  {
   "metadata": {
    "ExecuteTime": {
     "end_time": "2024-04-25T04:03:55.964667Z",
     "start_time": "2024-04-25T04:03:55.543152Z"
    }
   },
   "cell_type": "code",
   "source": "env.reset()",
   "id": "85f804c8ee5ba100",
   "outputs": [
    {
     "data": {
      "text/plain": [
       "(0, {'prob': 1})"
      ]
     },
     "execution_count": 40,
     "metadata": {},
     "output_type": "execute_result"
    }
   ],
   "execution_count": 40
  },
  {
   "metadata": {
    "ExecuteTime": {
     "end_time": "2024-04-25T04:03:56.214117Z",
     "start_time": "2024-04-25T04:03:55.966163Z"
    }
   },
   "cell_type": "code",
   "source": "env.render()",
   "id": "b7c75277efb066c9",
   "outputs": [],
   "execution_count": 41
  },
  {
   "metadata": {
    "ExecuteTime": {
     "end_time": "2024-04-25T04:03:56.316120Z",
     "start_time": "2024-04-25T04:03:56.215042Z"
    }
   },
   "cell_type": "code",
   "source": "env.close()",
   "id": "fd41a42ce32d2041",
   "outputs": [],
   "execution_count": 42
  },
  {
   "metadata": {
    "ExecuteTime": {
     "end_time": "2024-04-25T04:03:56.319627Z",
     "start_time": "2024-04-25T04:03:56.317378Z"
    }
   },
   "cell_type": "code",
   "source": "env.observation_space",
   "id": "f7cf4c7e4e37c0d1",
   "outputs": [
    {
     "data": {
      "text/plain": [
       "Discrete(16)"
      ]
     },
     "execution_count": 43,
     "metadata": {},
     "output_type": "execute_result"
    }
   ],
   "execution_count": 43
  },
  {
   "metadata": {
    "ExecuteTime": {
     "end_time": "2024-04-25T04:03:56.322552Z",
     "start_time": "2024-04-25T04:03:56.320385Z"
    }
   },
   "cell_type": "code",
   "source": "env.action_space",
   "id": "560aabbcecdb062b",
   "outputs": [
    {
     "data": {
      "text/plain": [
       "Discrete(4)"
      ]
     },
     "execution_count": 44,
     "metadata": {},
     "output_type": "execute_result"
    }
   ],
   "execution_count": 44
  },
  {
   "metadata": {
    "ExecuteTime": {
     "end_time": "2024-04-25T04:03:56.325265Z",
     "start_time": "2024-04-25T04:03:56.323232Z"
    }
   },
   "cell_type": "code",
   "source": [
    "env.P[0][1]\n",
    "#(probability, next state, reward, isTerminalState)"
   ],
   "id": "a629eee429f019fd",
   "outputs": [
    {
     "data": {
      "text/plain": [
       "[(0.3333333333333333, 0, 0.0, False),\n",
       " (0.3333333333333333, 4, 0.0, False),\n",
       " (0.3333333333333333, 1, 0.0, False)]"
      ]
     },
     "execution_count": 45,
     "metadata": {},
     "output_type": "execute_result"
    }
   ],
   "execution_count": 45
  },
  {
   "metadata": {
    "ExecuteTime": {
     "end_time": "2024-04-25T04:03:56.327443Z",
     "start_time": "2024-04-25T04:03:56.326074Z"
    }
   },
   "cell_type": "code",
   "source": "discountFactor = 0.9",
   "id": "7e9858ad88b87581",
   "outputs": [],
   "execution_count": 46
  },
  {
   "metadata": {
    "ExecuteTime": {
     "end_time": "2024-04-25T04:03:56.329455Z",
     "start_time": "2024-04-25T04:03:56.327959Z"
    }
   },
   "cell_type": "code",
   "source": "valueFunctionVector = np.zeros(env.observation_space.n)",
   "id": "932bcc45f07dad71",
   "outputs": [],
   "execution_count": 47
  },
  {
   "metadata": {
    "ExecuteTime": {
     "end_time": "2024-04-25T04:03:56.332166Z",
     "start_time": "2024-04-25T04:03:56.330089Z"
    }
   },
   "cell_type": "code",
   "source": "valueFunctionVector",
   "id": "1da7e9d824d34a14",
   "outputs": [
    {
     "data": {
      "text/plain": [
       "array([0., 0., 0., 0., 0., 0., 0., 0., 0., 0., 0., 0., 0., 0., 0., 0.])"
      ]
     },
     "execution_count": 48,
     "metadata": {},
     "output_type": "execute_result"
    }
   ],
   "execution_count": 48
  },
  {
   "metadata": {
    "ExecuteTime": {
     "end_time": "2024-04-25T04:03:56.335367Z",
     "start_time": "2024-04-25T04:03:56.333979Z"
    }
   },
   "cell_type": "code",
   "source": "convergenceTolerance = 10**(-6)",
   "id": "cadee0ee6c78dd78",
   "outputs": [],
   "execution_count": 49
  },
  {
   "metadata": {
    "ExecuteTime": {
     "end_time": "2024-04-25T04:03:56.337203Z",
     "start_time": "2024-04-25T04:03:56.335939Z"
    }
   },
   "cell_type": "code",
   "source": "convergenceTrack = []",
   "id": "845b6e82e1cbc4a5",
   "outputs": [],
   "execution_count": 50
  },
  {
   "metadata": {
    "ExecuteTime": {
     "end_time": "2024-04-25T04:03:56.339136Z",
     "start_time": "2024-04-25T04:03:56.337781Z"
    }
   },
   "cell_type": "code",
   "source": "number_Of_Iterations = 1000",
   "id": "11163acf0ac2ab59",
   "outputs": [],
   "execution_count": 51
  },
  {
   "metadata": {
    "ExecuteTime": {
     "end_time": "2024-04-25T04:03:56.347100Z",
     "start_time": "2024-04-25T04:03:56.339753Z"
    }
   },
   "cell_type": "code",
   "source": [
    "for iteration in range(number_Of_Iterations):\n",
    "    convergenceTrack.append(np.linalg.norm(valueFunctionVector, 2))\n",
    "    valueFunctionVectorNextIteration = np.zeros(env.observation_space.n)\n",
    "    for state in env.P:\n",
    "        outerSum = 0\n",
    "        for action in env.P[state]:\n",
    "            innerSum = 0\n",
    "            for probability, nextState, reward, isTerminalState in env.P[state][action]:\n",
    "                innerSum += probability * (reward + discountFactor * valueFunctionVector[nextState])\n",
    "            outerSum += 0.25*innerSum\n",
    "        valueFunctionVectorNextIteration[state] = outerSum\n",
    "    if(np.max(np.abs(valueFunctionVectorNextIteration-valueFunctionVector))<convergenceTolerance):\n",
    "        valueFunctionVector = valueFunctionVectorNextIteration\n",
    "        print('Convergence Tolerance:', convergenceTolerance)\n",
    "        break\n",
    "    valueFunctionVector = valueFunctionVectorNextIteration"
   ],
   "id": "7f51b9f65d78c2a1",
   "outputs": [
    {
     "name": "stdout",
     "output_type": "stream",
     "text": [
      "Convergence Tolerance: 1e-06\n"
     ]
    }
   ],
   "execution_count": 52
  },
  {
   "metadata": {
    "ExecuteTime": {
     "end_time": "2024-04-25T04:08:28.928503Z",
     "start_time": "2024-04-25T04:08:28.189082Z"
    }
   },
   "cell_type": "code",
   "source": [
    "def grid_print(valueFunction, reshapeDim):\n",
    "    ax = sns.heatmap(valueFunction.reshape(4,4), annot=True, square=True, cbar=False, cmap='Blues', xticklabels=False, yticklabels=False)\n",
    "    plt.savefig('value_function.png', dpi=600)\n",
    "    plt.show()\n",
    "grid_print(valueFunctionVector, 4)"
   ],
   "id": "37562e000de6192d",
   "outputs": [
    {
     "data": {
      "text/plain": [
       "<Figure size 640x480 with 1 Axes>"
      ],
      "image/png": "[encoded data removed]"
     },
     "metadata": {},
     "output_type": "display_data"
    }
   ],
   "execution_count": 53
  },
  {
   "metadata": {
    "ExecuteTime": {
     "end_time": "2024-04-25T04:37:49.843287Z",
     "start_time": "2024-04-25T04:37:49.173367Z"
    }
   },
   "cell_type": "code",
   "source": [
    "plt.plot(convergenceTrack)\n",
    "plt.xlabel('Iterations')\n",
    "plt.ylabel('Norm of Value Function')\n",
    "plt.savefig('convergence.png', dpi=600)\n",
    "plt.show()"
   ],
   "id": "7e7c9e04a45f9151",
   "outputs": [
    {
     "data": {
      "text/plain": [
       "<Figure size 640x480 with 1 Axes>"
      ],
      "image/png": "[encoded data removed]"
     },
     "metadata": {},
     "output_type": "display_data"
    }
   ],
   "execution_count": 54
  },
  {
   "metadata": {
    "ExecuteTime": {
     "end_time": "2024-04-25T04:38:28.251074Z",
     "start_time": "2024-04-25T04:38:28.248270Z"
    }
   },
   "cell_type": "code",
   "source": "env.close()",
   "id": "2060a78798b03502",
   "outputs": [],
   "execution_count": 55
  },
  {
   "metadata": {},
   "cell_type": "code",
   "outputs": [],
   "execution_count": null,
   "source": "",
   "id": "dc5f5508bb1314fb"
  }
 ],
 "metadata": {
  "kernelspec": {
   "display_name": "Python 3",
   "language": "python",
   "name": "python3"
  },
  "language_info": {
   "codemirror_mode": {
    "name": "ipython",
    "version": 2
   },
   "file_extension": ".py",
   "mimetype": "text/x-python",
   "name": "python",
   "nbconvert_exporter": "python",
   "pygments_lexer": "ipython2",
   "version": "2.7.6"
  }
 },
 "nbformat": 4,
 "nbformat_minor": 5
}
